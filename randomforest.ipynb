{
 "cells": [
  {
   "cell_type": "code",
   "execution_count": 3,
   "id": "3f94cb83-ece6-454e-bb62-3c21e6fba735",
   "metadata": {},
   "outputs": [
    {
     "ename": "SyntaxError",
     "evalue": "invalid syntax (3642013471.py, line 1)",
     "output_type": "error",
     "traceback": [
      "\u001b[1;36m  File \u001b[1;32m\"C:\\Users\\lenovo\\AppData\\Local\\Temp\\ipykernel_15680\\3642013471.py\"\u001b[1;36m, line \u001b[1;32m1\u001b[0m\n\u001b[1;33m    class sklearn.ensemble.RandomForestClassifier(n_estimators=100            #森林树木数\u001b[0m\n\u001b[1;37m                 ^\u001b[0m\n\u001b[1;31mSyntaxError\u001b[0m\u001b[1;31m:\u001b[0m invalid syntax\n"
     ]
    }
   ],
   "source": [
    "class sklearn.ensemble.RandomForestClassifier(n_estimators=100            #森林树木数\n",
    "                                              ,*\n",
    "                                              ,criterion='gini'           #important\n",
    "                                              ,max_depth=None             #important\n",
    "                                              ,min_samples_split=2        #important\n",
    "                                              ,min_samples_leaf=1         #important\n",
    "                                              ,min_weight_fraction_leaf=0.0\n",
    "                                             )"
   ]
  },
  {
   "cell_type": "code",
   "execution_count": 4,
   "id": "2a576df1-b90f-4d87-88e1-059c26873087",
   "metadata": {},
   "outputs": [],
   "source": [
    "from sklearn.ensemble import RandomForestClassifier\n",
    "from sklearn.tree import DecisionTreeClassifier\n",
    "from sklearn.datasets import load_wine\n",
    "from sklearn.model_selection import train_test_split\n",
    "from sklearn.model_selection import cross_val_score\n",
    "\n",
    "import matplotlib.pyplot as plt"
   ]
  },
  {
   "cell_type": "code",
   "execution_count": 5,
   "id": "edace634-6d64-479e-9547-05ecf5decc7e",
   "metadata": {},
   "outputs": [
    {
     "name": "stdout",
     "output_type": "stream",
     "text": [
      "<class 'sklearn.utils.Bunch'>\n"
     ]
    }
   ],
   "source": [
    "wine=load_wine()\n",
    "print(type(wine))#本质是字典哦，所以才有下面获取数据的方式"
   ]
  },
  {
   "cell_type": "code",
   "execution_count": 6,
   "id": "22a42444-243c-44a8-87f7-60a5aaa6bf65",
   "metadata": {},
   "outputs": [
    {
     "name": "stdout",
     "output_type": "stream",
     "text": [
      "dict_keys(['data', 'target', 'frame', 'target_names', 'DESCR', 'feature_names'])\n",
      "[[1.423e+01 1.710e+00 2.430e+00 ... 1.040e+00 3.920e+00 1.065e+03]\n",
      " [1.320e+01 1.780e+00 2.140e+00 ... 1.050e+00 3.400e+00 1.050e+03]\n",
      " [1.316e+01 2.360e+00 2.670e+00 ... 1.030e+00 3.170e+00 1.185e+03]\n",
      " ...\n",
      " [1.327e+01 4.280e+00 2.260e+00 ... 5.900e-01 1.560e+00 8.350e+02]\n",
      " [1.317e+01 2.590e+00 2.370e+00 ... 6.000e-01 1.620e+00 8.400e+02]\n",
      " [1.413e+01 4.100e+00 2.740e+00 ... 6.100e-01 1.600e+00 5.600e+02]]\n",
      "[[1.423e+01 1.710e+00 2.430e+00 ... 1.040e+00 3.920e+00 1.065e+03]\n",
      " [1.320e+01 1.780e+00 2.140e+00 ... 1.050e+00 3.400e+00 1.050e+03]\n",
      " [1.316e+01 2.360e+00 2.670e+00 ... 1.030e+00 3.170e+00 1.185e+03]\n",
      " ...\n",
      " [1.327e+01 4.280e+00 2.260e+00 ... 5.900e-01 1.560e+00 8.350e+02]\n",
      " [1.317e+01 2.590e+00 2.370e+00 ... 6.000e-01 1.620e+00 8.400e+02]\n",
      " [1.413e+01 4.100e+00 2.740e+00 ... 6.100e-01 1.600e+00 5.600e+02]]\n",
      "[0 0 0 0 0 0 0 0 0 0 0 0 0 0 0 0 0 0 0 0 0 0 0 0 0 0 0 0 0 0 0 0 0 0 0 0 0\n",
      " 0 0 0 0 0 0 0 0 0 0 0 0 0 0 0 0 0 0 0 0 0 0 1 1 1 1 1 1 1 1 1 1 1 1 1 1 1\n",
      " 1 1 1 1 1 1 1 1 1 1 1 1 1 1 1 1 1 1 1 1 1 1 1 1 1 1 1 1 1 1 1 1 1 1 1 1 1\n",
      " 1 1 1 1 1 1 1 1 1 1 1 1 1 1 1 1 1 1 1 2 2 2 2 2 2 2 2 2 2 2 2 2 2 2 2 2 2\n",
      " 2 2 2 2 2 2 2 2 2 2 2 2 2 2 2 2 2 2 2 2 2 2 2 2 2 2 2 2 2 2]\n",
      "[0 0 0 0 0 0 0 0 0 0 0 0 0 0 0 0 0 0 0 0 0 0 0 0 0 0 0 0 0 0 0 0 0 0 0 0 0\n",
      " 0 0 0 0 0 0 0 0 0 0 0 0 0 0 0 0 0 0 0 0 0 0 1 1 1 1 1 1 1 1 1 1 1 1 1 1 1\n",
      " 1 1 1 1 1 1 1 1 1 1 1 1 1 1 1 1 1 1 1 1 1 1 1 1 1 1 1 1 1 1 1 1 1 1 1 1 1\n",
      " 1 1 1 1 1 1 1 1 1 1 1 1 1 1 1 1 1 1 1 2 2 2 2 2 2 2 2 2 2 2 2 2 2 2 2 2 2\n",
      " 2 2 2 2 2 2 2 2 2 2 2 2 2 2 2 2 2 2 2 2 2 2 2 2 2 2 2 2 2 2]\n"
     ]
    }
   ],
   "source": [
    "print(wine.keys())        #dict中key的类型可以有：整型、浮点型、\n",
    "print(wine.data)\n",
    "print(wine['data'])\n",
    "print(wine.target)\n",
    "print(wine['target'])"
   ]
  },
  {
   "cell_type": "code",
   "execution_count": 7,
   "id": "648df60f-9327-461f-8cd6-bb2fc4ed04dd",
   "metadata": {},
   "outputs": [
    {
     "data": {
      "text/plain": [
       "tuple"
      ]
     },
     "execution_count": 7,
     "metadata": {},
     "output_type": "execute_result"
    }
   ],
   "source": [
    "a=(5,)\n",
    "type(a)"
   ]
  },
  {
   "cell_type": "code",
   "execution_count": 8,
   "id": "b36b8b14-e028-42d3-bac5-a9c8dec6641b",
   "metadata": {},
   "outputs": [
    {
     "data": {
      "text/plain": [
       "'A'"
      ]
     },
     "execution_count": 8,
     "metadata": {},
     "output_type": "execute_result"
    }
   ],
   "source": [
    "a={(1,2,3):'A',(2,3,4):'B'}\n",
    "a[(1,2,3)]"
   ]
  },
  {
   "cell_type": "code",
   "execution_count": 9,
   "id": "7c17f7ce-7167-4df2-9fff-ed378ca5cb45",
   "metadata": {},
   "outputs": [
    {
     "ename": "TypeError",
     "evalue": "unhashable type: 'list'",
     "output_type": "error",
     "traceback": [
      "\u001b[1;31m---------------------------------------------------------------------------\u001b[0m",
      "\u001b[1;31mTypeError\u001b[0m                                 Traceback (most recent call last)",
      "\u001b[1;32m~\\AppData\\Local\\Temp\\ipykernel_15680\\2087553254.py\u001b[0m in \u001b[0;36m<module>\u001b[1;34m\u001b[0m\n\u001b[1;32m----> 1\u001b[1;33m \u001b[0ma\u001b[0m\u001b[1;33m=\u001b[0m\u001b[1;33m{\u001b[0m\u001b[1;33m[\u001b[0m\u001b[1;36m1\u001b[0m\u001b[1;33m,\u001b[0m\u001b[1;36m2\u001b[0m\u001b[1;33m,\u001b[0m\u001b[1;36m3\u001b[0m\u001b[1;33m]\u001b[0m\u001b[1;33m:\u001b[0m\u001b[1;34m'A'\u001b[0m\u001b[1;33m,\u001b[0m\u001b[1;33m[\u001b[0m\u001b[1;36m2\u001b[0m\u001b[1;33m,\u001b[0m\u001b[1;36m3\u001b[0m\u001b[1;33m,\u001b[0m\u001b[1;36m4\u001b[0m\u001b[1;33m]\u001b[0m\u001b[1;33m:\u001b[0m\u001b[1;34m'B'\u001b[0m\u001b[1;33m}\u001b[0m\u001b[1;33m\u001b[0m\u001b[1;33m\u001b[0m\u001b[0m\n\u001b[0m\u001b[0;32m      2\u001b[0m \u001b[0ma\u001b[0m\u001b[1;33m[\u001b[0m\u001b[1;33m[\u001b[0m\u001b[1;36m1\u001b[0m\u001b[1;33m,\u001b[0m\u001b[1;36m2\u001b[0m\u001b[1;33m,\u001b[0m\u001b[1;36m3\u001b[0m\u001b[1;33m]\u001b[0m\u001b[1;33m]\u001b[0m\u001b[1;33m\u001b[0m\u001b[1;33m\u001b[0m\u001b[0m\n\u001b[0;32m      3\u001b[0m \u001b[1;31m#不能在可索引的列表再以列表索引\u001b[0m\u001b[1;33m\u001b[0m\u001b[1;33m\u001b[0m\u001b[0m\n",
      "\u001b[1;31mTypeError\u001b[0m: unhashable type: 'list'"
     ]
    }
   ],
   "source": [
    "a={[1,2,3]:'A',[2,3,4]:'B'}\n",
    "a[[1,2,3]]\n",
    "#不能在可索引的列表再以列表索引"
   ]
  },
  {
   "cell_type": "code",
   "execution_count": 10,
   "id": "cfd683f3-0913-48df-ac21-fb9f0da8e8d4",
   "metadata": {},
   "outputs": [
    {
     "name": "stdout",
     "output_type": "stream",
     "text": [
      "0.8333333333333334\n",
      "0.9629629629629629\n"
     ]
    }
   ],
   "source": [
    "clf=DecisionTreeClassifier()\n",
    "rfc=RandomForestClassifier()\n",
    "Xtrain,Xtest,Ytrain,Ytest=train_test_split(wine.data\n",
    "                                           ,wine.target\n",
    "                                           ,test_size=0.3\n",
    "                                           ,random_state=10\n",
    "                                          )\n",
    "clf.fit(Xtrain,Ytrain)\n",
    "rfc.fit(Xtrain,Ytrain)\n",
    "score_c=clf.score(Xtest,Ytest)\n",
    "score_r=rfc.score(Xtest,Ytest)\n",
    "print(score_c)\n",
    "print(score_r)"
   ]
  },
  {
   "cell_type": "code",
   "execution_count": 11,
   "id": "63917ee9-4435-49c3-bc47-bfc45b5ccb20",
   "metadata": {},
   "outputs": [
    {
     "name": "stdout",
     "output_type": "stream",
     "text": [
      "[DecisionTreeClassifier(max_features='auto', random_state=1872583848), DecisionTreeClassifier(max_features='auto', random_state=794921487), DecisionTreeClassifier(max_features='auto', random_state=111352301), DecisionTreeClassifier(max_features='auto', random_state=1853453896), DecisionTreeClassifier(max_features='auto', random_state=213298710), DecisionTreeClassifier(max_features='auto', random_state=1922988331), DecisionTreeClassifier(max_features='auto', random_state=1869695442), DecisionTreeClassifier(max_features='auto', random_state=2081981515), DecisionTreeClassifier(max_features='auto', random_state=1805465960), DecisionTreeClassifier(max_features='auto', random_state=1376693511), DecisionTreeClassifier(max_features='auto', random_state=1418777250), DecisionTreeClassifier(max_features='auto', random_state=663257521), DecisionTreeClassifier(max_features='auto', random_state=878959199), DecisionTreeClassifier(max_features='auto', random_state=854108747), DecisionTreeClassifier(max_features='auto', random_state=512264917), DecisionTreeClassifier(max_features='auto', random_state=515183663), DecisionTreeClassifier(max_features='auto', random_state=1287007039), DecisionTreeClassifier(max_features='auto', random_state=2083814687), DecisionTreeClassifier(max_features='auto', random_state=1146014426), DecisionTreeClassifier(max_features='auto', random_state=570104212)]\n",
      "DecisionTreeClassifier(max_features='auto', random_state=1872583848)\n",
      "1872583848\n",
      "794921487\n",
      "111352301\n",
      "1853453896\n",
      "213298710\n",
      "1922988331\n",
      "1869695442\n",
      "2081981515\n",
      "1805465960\n",
      "1376693511\n",
      "1418777250\n",
      "663257521\n",
      "878959199\n",
      "854108747\n",
      "512264917\n",
      "515183663\n",
      "1287007039\n",
      "2083814687\n",
      "1146014426\n",
      "570104212\n"
     ]
    }
   ],
   "source": [
    "rfc=RandomForestClassifier(n_estimators=20,random_state=2)\n",
    "rfc=rfc.fit(Xtrain,Ytrain)\n",
    "print(rfc.estimators_)\n",
    "print(rfc.estimators_[0])\n",
    "for i in range(len(rfc.estimators_)):\n",
    "    print(rfc.estimators_[i].random_state)"
   ]
  },
  {
   "cell_type": "code",
   "execution_count": 12,
   "id": "5b1f5901-68ce-4414-835a-4d92c132bc76",
   "metadata": {},
   "outputs": [
    {
     "name": "stdout",
     "output_type": "stream",
     "text": [
      "0.9629629629629629\n",
      "(54, 13)\n",
      "[0.13674581 0.00631808 0.01714473 0.06334404 0.01245169 0.063817\n",
      " 0.11774151 0.01921439 0.01641196 0.14531838 0.04499039 0.14099913\n",
      " 0.21550289]\n",
      "(13,)\n",
      "[[ 3  7  8 ...  7  3  3]\n",
      " [ 3  7 13 ...  7  6  3]\n",
      " [ 6 13 17 ... 18  7 11]\n",
      " ...\n",
      " [ 3  7 13 ...  7 13  3]\n",
      " [ 1 11  5 ...  4  2  7]\n",
      " [ 8 13 17 ... 18 14 11]]\n",
      "(54, 20)\n",
      "[1 1 0 1 0 1 1 0 2 0 0 1 0 2 1 1 2 1 1 2 0 2 0 0 1 2 1 2 1 1 2 2 1 2 1 0 1\n",
      " 1 0 1 1 0 2 1 0 1 2 1 1 0 2 1 2 0]\n",
      "(54,)\n"
     ]
    }
   ],
   "source": [
    "rfc=RandomForestClassifier(n_estimators=20,random_state=2)\n",
    "rfc=rfc.fit(Xtrain,Ytrain)\n",
    "s=rfc.score(Xtest,Ytest)\n",
    "print(s)\n",
    "print(Xtest.shape)\n",
    "print(rfc.feature_importances_)\n",
    "print(rfc.feature_importances_.shape)\n",
    "print(rfc.apply(Xtest))\n",
    "print(rfc.apply(Xtest).shape)\n",
    "print(rfc.predict(Xtest))\n",
    "print(rfc.predict(Xtest).shape)"
   ]
  },
  {
   "cell_type": "code",
   "execution_count": null,
   "id": "69968e2a-db66-4573-a1c2-f398eef8e32f",
   "metadata": {},
   "outputs": [],
   "source": []
  }
 ],
 "metadata": {
  "kernelspec": {
   "display_name": "Python 3 (ipykernel)",
   "language": "python",
   "name": "python3"
  },
  "language_info": {
   "codemirror_mode": {
    "name": "ipython",
    "version": 3
   },
   "file_extension": ".py",
   "mimetype": "text/x-python",
   "name": "python",
   "nbconvert_exporter": "python",
   "pygments_lexer": "ipython3",
   "version": "3.9.13"
  }
 },
 "nbformat": 4,
 "nbformat_minor": 5
}
